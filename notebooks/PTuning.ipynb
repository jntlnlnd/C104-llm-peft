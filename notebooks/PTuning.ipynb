{
 "cells": [
  {
   "cell_type": "markdown",
   "id": "ab13912d-a903-46cc-9b3b-cdc55b947f5f",
   "metadata": {},
   "source": [
    "## P-Tuning"
   ]
  },
  {
   "cell_type": "code",
   "execution_count": 1,
   "id": "6f9f04e3-545a-4834-bce6-6881947cc347",
   "metadata": {},
   "outputs": [
    {
     "name": "stderr",
     "output_type": "stream",
     "text": [
      "Some weights of LlamaForSequenceClassification were not initialized from the model checkpoint at llm-jp/llm-jp-3-1.8b and are newly initialized: ['score.weight']\n",
      "You should probably TRAIN this model on a down-stream task to be able to use it for predictions and inference.\n"
     ]
    },
    {
     "name": "stdout",
     "output_type": "stream",
     "text": [
      "trainable params: 12,613,632 || all params: 1,676,283,904 || trainable%: 0.7525\n",
      "base_model.score.modules_to_save.default.weight 4096\n",
      "prompt_encoder.default.embedding.weight 20480\n",
      "prompt_encoder.default.mlp_head.0.weight 4194304\n",
      "prompt_encoder.default.mlp_head.0.bias 2048\n",
      "prompt_encoder.default.mlp_head.2.weight 4194304\n",
      "prompt_encoder.default.mlp_head.2.bias 2048\n",
      "prompt_encoder.default.mlp_head.4.weight 4194304\n",
      "prompt_encoder.default.mlp_head.4.bias 2048\n"
     ]
    },
    {
     "name": "stderr",
     "output_type": "stream",
     "text": [
      "/opt/conda/lib/python3.11/site-packages/transformers/training_args.py:1568: FutureWarning: `evaluation_strategy` is deprecated and will be removed in version 4.46 of 🤗 Transformers. Use `eval_strategy` instead\n",
      "  warnings.warn(\n",
      "/work/notebooks/scripts.py:79: FutureWarning: `tokenizer` is deprecated and will be removed in version 5.0.0 for `Trainer.__init__`. Use `processing_class` instead.\n",
      "  trainer = Trainer(\n"
     ]
    },
    {
     "data": {
      "text/html": [
       "\n",
       "    <div>\n",
       "      \n",
       "      <progress value='410' max='410' style='width:300px; height:20px; vertical-align: middle;'></progress>\n",
       "      [410/410 06:39, Epoch 10/10]\n",
       "    </div>\n",
       "    <table border=\"1\" class=\"dataframe\">\n",
       "  <thead>\n",
       " <tr style=\"text-align: left;\">\n",
       "      <th>Epoch</th>\n",
       "      <th>Training Loss</th>\n",
       "      <th>Validation Loss</th>\n",
       "      <th>Roc Auc</th>\n",
       "      <th>Accuracy</th>\n",
       "    </tr>\n",
       "  </thead>\n",
       "  <tbody>\n",
       "    <tr>\n",
       "      <td>1</td>\n",
       "      <td>1.713800</td>\n",
       "      <td>1.881047</td>\n",
       "      <td>0.800987</td>\n",
       "      <td>0.703704</td>\n",
       "    </tr>\n",
       "    <tr>\n",
       "      <td>2</td>\n",
       "      <td>0.977200</td>\n",
       "      <td>0.786496</td>\n",
       "      <td>0.883224</td>\n",
       "      <td>0.722222</td>\n",
       "    </tr>\n",
       "    <tr>\n",
       "      <td>3</td>\n",
       "      <td>0.918600</td>\n",
       "      <td>1.453107</td>\n",
       "      <td>0.879934</td>\n",
       "      <td>0.703704</td>\n",
       "    </tr>\n",
       "    <tr>\n",
       "      <td>4</td>\n",
       "      <td>0.973000</td>\n",
       "      <td>0.412044</td>\n",
       "      <td>0.898026</td>\n",
       "      <td>0.925926</td>\n",
       "    </tr>\n",
       "    <tr>\n",
       "      <td>5</td>\n",
       "      <td>0.527300</td>\n",
       "      <td>0.276044</td>\n",
       "      <td>0.907895</td>\n",
       "      <td>0.888889</td>\n",
       "    </tr>\n",
       "    <tr>\n",
       "      <td>6</td>\n",
       "      <td>0.410400</td>\n",
       "      <td>0.525555</td>\n",
       "      <td>0.916118</td>\n",
       "      <td>0.833333</td>\n",
       "    </tr>\n",
       "    <tr>\n",
       "      <td>7</td>\n",
       "      <td>0.674000</td>\n",
       "      <td>0.675208</td>\n",
       "      <td>0.932566</td>\n",
       "      <td>0.685185</td>\n",
       "    </tr>\n",
       "    <tr>\n",
       "      <td>8</td>\n",
       "      <td>0.469200</td>\n",
       "      <td>0.370344</td>\n",
       "      <td>0.924342</td>\n",
       "      <td>0.925926</td>\n",
       "    </tr>\n",
       "    <tr>\n",
       "      <td>9</td>\n",
       "      <td>0.495200</td>\n",
       "      <td>0.229641</td>\n",
       "      <td>0.939145</td>\n",
       "      <td>0.925926</td>\n",
       "    </tr>\n",
       "    <tr>\n",
       "      <td>10</td>\n",
       "      <td>0.391100</td>\n",
       "      <td>0.241454</td>\n",
       "      <td>0.934211</td>\n",
       "      <td>0.925926</td>\n",
       "    </tr>\n",
       "  </tbody>\n",
       "</table><p>"
      ],
      "text/plain": [
       "<IPython.core.display.HTML object>"
      ]
     },
     "metadata": {},
     "output_type": "display_data"
    },
    {
     "data": {
      "text/html": [],
      "text/plain": [
       "<IPython.core.display.HTML object>"
      ]
     },
     "metadata": {},
     "output_type": "display_data"
    },
    {
     "name": "stdout",
     "output_type": "stream",
     "text": [
      "{'roc_auc': np.float64(0.8157894736842105), 'accuracy': 0.7962962962962963}\n"
     ]
    }
   ],
   "source": [
    "from peft import PromptEncoderConfig, TaskType\n",
    "from scripts import train_peft\n",
    "\n",
    "peft_config = PromptEncoderConfig(\n",
    "    task_type=TaskType.SEQ_CLS,\n",
    "    num_virtual_tokens=10,\n",
    ")\n",
    "train_peft(peft_config)"
   ]
  },
  {
   "cell_type": "code",
   "execution_count": null,
   "id": "e8e3fdee-aa0a-4a90-9f76-4a24cd19727e",
   "metadata": {},
   "outputs": [],
   "source": []
  }
 ],
 "metadata": {
  "kernelspec": {
   "display_name": "Python 3 (ipykernel)",
   "language": "python",
   "name": "python3"
  },
  "language_info": {
   "codemirror_mode": {
    "name": "ipython",
    "version": 3
   },
   "file_extension": ".py",
   "mimetype": "text/x-python",
   "name": "python",
   "nbconvert_exporter": "python",
   "pygments_lexer": "ipython3",
   "version": "3.11.10"
  }
 },
 "nbformat": 4,
 "nbformat_minor": 5
}
