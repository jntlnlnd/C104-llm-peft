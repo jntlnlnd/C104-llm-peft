{
 "cells": [
  {
   "cell_type": "markdown",
   "id": "ab13912d-a903-46cc-9b3b-cdc55b947f5f",
   "metadata": {},
   "source": [
    "## IA3\n",
    "- "
   ]
  },
  {
   "cell_type": "code",
   "execution_count": 1,
   "id": "6f9f04e3-545a-4834-bce6-6881947cc347",
   "metadata": {},
   "outputs": [
    {
     "name": "stderr",
     "output_type": "stream",
     "text": [
      "Some weights of LlamaForSequenceClassification were not initialized from the model checkpoint at llm-jp/llm-jp-3-1.8b and are newly initialized: ['score.weight']\n",
      "You should probably TRAIN this model on a down-stream task to be able to use it for predictions and inference.\n"
     ]
    },
    {
     "name": "stdout",
     "output_type": "stream",
     "text": [
      "trainable params: 274,432 || all params: 1,663,944,704 || trainable%: 0.0165\n",
      "base_model.model.model.layers.0.self_attn.k_proj.ia3_l.default 2048\n",
      "base_model.model.model.layers.0.self_attn.v_proj.ia3_l.default 2048\n",
      "base_model.model.model.layers.0.mlp.down_proj.ia3_l.default 7168\n",
      "base_model.model.model.layers.1.self_attn.k_proj.ia3_l.default 2048\n",
      "base_model.model.model.layers.1.self_attn.v_proj.ia3_l.default 2048\n",
      "base_model.model.model.layers.1.mlp.down_proj.ia3_l.default 7168\n",
      "base_model.model.model.layers.2.self_attn.k_proj.ia3_l.default 2048\n",
      "base_model.model.model.layers.2.self_attn.v_proj.ia3_l.default 2048\n",
      "base_model.model.model.layers.2.mlp.down_proj.ia3_l.default 7168\n",
      "base_model.model.model.layers.3.self_attn.k_proj.ia3_l.default 2048\n",
      "base_model.model.model.layers.3.self_attn.v_proj.ia3_l.default 2048\n",
      "base_model.model.model.layers.3.mlp.down_proj.ia3_l.default 7168\n",
      "base_model.model.model.layers.4.self_attn.k_proj.ia3_l.default 2048\n",
      "base_model.model.model.layers.4.self_attn.v_proj.ia3_l.default 2048\n",
      "base_model.model.model.layers.4.mlp.down_proj.ia3_l.default 7168\n",
      "base_model.model.model.layers.5.self_attn.k_proj.ia3_l.default 2048\n",
      "base_model.model.model.layers.5.self_attn.v_proj.ia3_l.default 2048\n",
      "base_model.model.model.layers.5.mlp.down_proj.ia3_l.default 7168\n",
      "base_model.model.model.layers.6.self_attn.k_proj.ia3_l.default 2048\n",
      "base_model.model.model.layers.6.self_attn.v_proj.ia3_l.default 2048\n",
      "base_model.model.model.layers.6.mlp.down_proj.ia3_l.default 7168\n",
      "base_model.model.model.layers.7.self_attn.k_proj.ia3_l.default 2048\n",
      "base_model.model.model.layers.7.self_attn.v_proj.ia3_l.default 2048\n",
      "base_model.model.model.layers.7.mlp.down_proj.ia3_l.default 7168\n",
      "base_model.model.model.layers.8.self_attn.k_proj.ia3_l.default 2048\n",
      "base_model.model.model.layers.8.self_attn.v_proj.ia3_l.default 2048\n",
      "base_model.model.model.layers.8.mlp.down_proj.ia3_l.default 7168\n",
      "base_model.model.model.layers.9.self_attn.k_proj.ia3_l.default 2048\n",
      "base_model.model.model.layers.9.self_attn.v_proj.ia3_l.default 2048\n",
      "base_model.model.model.layers.9.mlp.down_proj.ia3_l.default 7168\n",
      "base_model.model.model.layers.10.self_attn.k_proj.ia3_l.default 2048\n",
      "base_model.model.model.layers.10.self_attn.v_proj.ia3_l.default 2048\n",
      "base_model.model.model.layers.10.mlp.down_proj.ia3_l.default 7168\n",
      "base_model.model.model.layers.11.self_attn.k_proj.ia3_l.default 2048\n",
      "base_model.model.model.layers.11.self_attn.v_proj.ia3_l.default 2048\n",
      "base_model.model.model.layers.11.mlp.down_proj.ia3_l.default 7168\n",
      "base_model.model.model.layers.12.self_attn.k_proj.ia3_l.default 2048\n",
      "base_model.model.model.layers.12.self_attn.v_proj.ia3_l.default 2048\n",
      "base_model.model.model.layers.12.mlp.down_proj.ia3_l.default 7168\n",
      "base_model.model.model.layers.13.self_attn.k_proj.ia3_l.default 2048\n",
      "base_model.model.model.layers.13.self_attn.v_proj.ia3_l.default 2048\n",
      "base_model.model.model.layers.13.mlp.down_proj.ia3_l.default 7168\n",
      "base_model.model.model.layers.14.self_attn.k_proj.ia3_l.default 2048\n",
      "base_model.model.model.layers.14.self_attn.v_proj.ia3_l.default 2048\n",
      "base_model.model.model.layers.14.mlp.down_proj.ia3_l.default 7168\n",
      "base_model.model.model.layers.15.self_attn.k_proj.ia3_l.default 2048\n",
      "base_model.model.model.layers.15.self_attn.v_proj.ia3_l.default 2048\n",
      "base_model.model.model.layers.15.mlp.down_proj.ia3_l.default 7168\n",
      "base_model.model.model.layers.16.self_attn.k_proj.ia3_l.default 2048\n",
      "base_model.model.model.layers.16.self_attn.v_proj.ia3_l.default 2048\n",
      "base_model.model.model.layers.16.mlp.down_proj.ia3_l.default 7168\n",
      "base_model.model.model.layers.17.self_attn.k_proj.ia3_l.default 2048\n",
      "base_model.model.model.layers.17.self_attn.v_proj.ia3_l.default 2048\n",
      "base_model.model.model.layers.17.mlp.down_proj.ia3_l.default 7168\n",
      "base_model.model.model.layers.18.self_attn.k_proj.ia3_l.default 2048\n",
      "base_model.model.model.layers.18.self_attn.v_proj.ia3_l.default 2048\n",
      "base_model.model.model.layers.18.mlp.down_proj.ia3_l.default 7168\n",
      "base_model.model.model.layers.19.self_attn.k_proj.ia3_l.default 2048\n",
      "base_model.model.model.layers.19.self_attn.v_proj.ia3_l.default 2048\n",
      "base_model.model.model.layers.19.mlp.down_proj.ia3_l.default 7168\n",
      "base_model.model.model.layers.20.self_attn.k_proj.ia3_l.default 2048\n",
      "base_model.model.model.layers.20.self_attn.v_proj.ia3_l.default 2048\n",
      "base_model.model.model.layers.20.mlp.down_proj.ia3_l.default 7168\n",
      "base_model.model.model.layers.21.self_attn.k_proj.ia3_l.default 2048\n",
      "base_model.model.model.layers.21.self_attn.v_proj.ia3_l.default 2048\n",
      "base_model.model.model.layers.21.mlp.down_proj.ia3_l.default 7168\n",
      "base_model.model.model.layers.22.self_attn.k_proj.ia3_l.default 2048\n",
      "base_model.model.model.layers.22.self_attn.v_proj.ia3_l.default 2048\n",
      "base_model.model.model.layers.22.mlp.down_proj.ia3_l.default 7168\n",
      "base_model.model.model.layers.23.self_attn.k_proj.ia3_l.default 2048\n",
      "base_model.model.model.layers.23.self_attn.v_proj.ia3_l.default 2048\n",
      "base_model.model.model.layers.23.mlp.down_proj.ia3_l.default 7168\n",
      "base_model.model.score.modules_to_save.default.weight 4096\n"
     ]
    },
    {
     "name": "stderr",
     "output_type": "stream",
     "text": [
      "/opt/conda/lib/python3.11/site-packages/transformers/training_args.py:1568: FutureWarning: `evaluation_strategy` is deprecated and will be removed in version 4.46 of 🤗 Transformers. Use `eval_strategy` instead\n",
      "  warnings.warn(\n",
      "/work/notebooks/scripts.py:80: FutureWarning: `tokenizer` is deprecated and will be removed in version 5.0.0 for `Trainer.__init__`. Use `processing_class` instead.\n",
      "  trainer = Trainer(\n"
     ]
    },
    {
     "data": {
      "text/html": [
       "\n",
       "    <div>\n",
       "      \n",
       "      <progress value='410' max='410' style='width:300px; height:20px; vertical-align: middle;'></progress>\n",
       "      [410/410 01:43, Epoch 10/10]\n",
       "    </div>\n",
       "    <table border=\"1\" class=\"dataframe\">\n",
       "  <thead>\n",
       " <tr style=\"text-align: left;\">\n",
       "      <th>Epoch</th>\n",
       "      <th>Training Loss</th>\n",
       "      <th>Validation Loss</th>\n",
       "      <th>Roc Auc</th>\n",
       "      <th>Accuracy</th>\n",
       "    </tr>\n",
       "  </thead>\n",
       "  <tbody>\n",
       "    <tr>\n",
       "      <td>1</td>\n",
       "      <td>0.822000</td>\n",
       "      <td>0.471093</td>\n",
       "      <td>0.986842</td>\n",
       "      <td>0.870370</td>\n",
       "    </tr>\n",
       "    <tr>\n",
       "      <td>2</td>\n",
       "      <td>0.380800</td>\n",
       "      <td>0.148605</td>\n",
       "      <td>0.998355</td>\n",
       "      <td>0.925926</td>\n",
       "    </tr>\n",
       "    <tr>\n",
       "      <td>3</td>\n",
       "      <td>0.209400</td>\n",
       "      <td>0.229504</td>\n",
       "      <td>0.998355</td>\n",
       "      <td>0.907407</td>\n",
       "    </tr>\n",
       "    <tr>\n",
       "      <td>4</td>\n",
       "      <td>0.167800</td>\n",
       "      <td>0.175166</td>\n",
       "      <td>1.000000</td>\n",
       "      <td>0.925926</td>\n",
       "    </tr>\n",
       "    <tr>\n",
       "      <td>5</td>\n",
       "      <td>0.119700</td>\n",
       "      <td>0.229367</td>\n",
       "      <td>1.000000</td>\n",
       "      <td>0.925926</td>\n",
       "    </tr>\n",
       "    <tr>\n",
       "      <td>6</td>\n",
       "      <td>0.112200</td>\n",
       "      <td>0.233600</td>\n",
       "      <td>1.000000</td>\n",
       "      <td>0.925926</td>\n",
       "    </tr>\n",
       "    <tr>\n",
       "      <td>7</td>\n",
       "      <td>0.106500</td>\n",
       "      <td>0.210052</td>\n",
       "      <td>1.000000</td>\n",
       "      <td>0.925926</td>\n",
       "    </tr>\n",
       "    <tr>\n",
       "      <td>8</td>\n",
       "      <td>0.088100</td>\n",
       "      <td>0.194159</td>\n",
       "      <td>1.000000</td>\n",
       "      <td>0.925926</td>\n",
       "    </tr>\n",
       "    <tr>\n",
       "      <td>9</td>\n",
       "      <td>0.082500</td>\n",
       "      <td>0.195634</td>\n",
       "      <td>1.000000</td>\n",
       "      <td>0.925926</td>\n",
       "    </tr>\n",
       "    <tr>\n",
       "      <td>10</td>\n",
       "      <td>0.078700</td>\n",
       "      <td>0.199589</td>\n",
       "      <td>1.000000</td>\n",
       "      <td>0.925926</td>\n",
       "    </tr>\n",
       "  </tbody>\n",
       "</table><p>"
      ],
      "text/plain": [
       "<IPython.core.display.HTML object>"
      ]
     },
     "metadata": {},
     "output_type": "display_data"
    },
    {
     "data": {
      "text/html": [],
      "text/plain": [
       "<IPython.core.display.HTML object>"
      ]
     },
     "metadata": {},
     "output_type": "display_data"
    },
    {
     "name": "stdout",
     "output_type": "stream",
     "text": [
      "{'roc_auc': np.float64(0.993421052631579), 'accuracy': 0.9259259259259259}\n"
     ]
    }
   ],
   "source": [
    "from peft import IA3Config, TaskType\n",
    "from scripts import train_peft\n",
    "\n",
    "peft_config = IA3Config(task_type=TaskType.SEQ_CLS)\n",
    "train_peft(peft_config)"
   ]
  },
  {
   "cell_type": "code",
   "execution_count": null,
   "id": "e8e3fdee-aa0a-4a90-9f76-4a24cd19727e",
   "metadata": {},
   "outputs": [],
   "source": []
  }
 ],
 "metadata": {
  "kernelspec": {
   "display_name": "Python 3 (ipykernel)",
   "language": "python",
   "name": "python3"
  },
  "language_info": {
   "codemirror_mode": {
    "name": "ipython",
    "version": 3
   },
   "file_extension": ".py",
   "mimetype": "text/x-python",
   "name": "python",
   "nbconvert_exporter": "python",
   "pygments_lexer": "ipython3",
   "version": "3.11.10"
  }
 },
 "nbformat": 4,
 "nbformat_minor": 5
}
