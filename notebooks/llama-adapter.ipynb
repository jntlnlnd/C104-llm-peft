{
 "cells": [
  {
   "cell_type": "markdown",
   "id": "1fea6034-e2bd-46bc-93ad-9c1ec53e4848",
   "metadata": {},
   "source": [
    "## LLaMa-Adapter\n",
    "- https://sebastianraschka.com/blog/2023/llm-finetuning-llama-adapter.html\n"
   ]
  },
  {
   "cell_type": "code",
   "execution_count": 8,
   "id": "6f9f04e3-545a-4834-bce6-6881947cc347",
   "metadata": {},
   "outputs": [
    {
     "name": "stderr",
     "output_type": "stream",
     "text": [
      "Some weights of LlamaForSequenceClassification were not initialized from the model checkpoint at llm-jp/llm-jp-3-1.8b and are newly initialized: ['score.weight']\n",
      "You should probably TRAIN this model on a down-stream task to be able to use it for predictions and inference.\n"
     ]
    },
    {
     "name": "stdout",
     "output_type": "stream",
     "text": [
      "trainable params: 167,944 || all params: 1,663,838,216 || trainable%: 0.0101\n",
      "base_model.model.model.layers.16.self_attn.adaption_prompt 20480\n",
      "base_model.model.model.layers.16.self_attn.adaption_gate 1\n",
      "base_model.model.model.layers.17.self_attn.adaption_prompt 20480\n",
      "base_model.model.model.layers.17.self_attn.adaption_gate 1\n",
      "base_model.model.model.layers.18.self_attn.adaption_prompt 20480\n",
      "base_model.model.model.layers.18.self_attn.adaption_gate 1\n",
      "base_model.model.model.layers.19.self_attn.adaption_prompt 20480\n",
      "base_model.model.model.layers.19.self_attn.adaption_gate 1\n",
      "base_model.model.model.layers.20.self_attn.adaption_prompt 20480\n",
      "base_model.model.model.layers.20.self_attn.adaption_gate 1\n",
      "base_model.model.model.layers.21.self_attn.adaption_prompt 20480\n",
      "base_model.model.model.layers.21.self_attn.adaption_gate 1\n",
      "base_model.model.model.layers.22.self_attn.adaption_prompt 20480\n",
      "base_model.model.model.layers.22.self_attn.adaption_gate 1\n",
      "base_model.model.model.layers.23.self_attn.adaption_prompt 20480\n",
      "base_model.model.model.layers.23.self_attn.adaption_gate 1\n",
      "base_model.model.score.modules_to_save.default.weight 4096\n"
     ]
    },
    {
     "name": "stderr",
     "output_type": "stream",
     "text": [
      "/opt/conda/lib/python3.11/site-packages/transformers/training_args.py:1568: FutureWarning: `evaluation_strategy` is deprecated and will be removed in version 4.46 of 🤗 Transformers. Use `eval_strategy` instead\n",
      "  warnings.warn(\n",
      "/work/notebooks/scripts.py:79: FutureWarning: `tokenizer` is deprecated and will be removed in version 5.0.0 for `Trainer.__init__`. Use `processing_class` instead.\n",
      "  trainer = Trainer(\n"
     ]
    },
    {
     "data": {
      "text/html": [
       "\n",
       "    <div>\n",
       "      \n",
       "      <progress value='410' max='410' style='width:300px; height:20px; vertical-align: middle;'></progress>\n",
       "      [410/410 00:58, Epoch 10/10]\n",
       "    </div>\n",
       "    <table border=\"1\" class=\"dataframe\">\n",
       "  <thead>\n",
       " <tr style=\"text-align: left;\">\n",
       "      <th>Epoch</th>\n",
       "      <th>Training Loss</th>\n",
       "      <th>Validation Loss</th>\n",
       "      <th>Roc Auc</th>\n",
       "      <th>Accuracy</th>\n",
       "    </tr>\n",
       "  </thead>\n",
       "  <tbody>\n",
       "    <tr>\n",
       "      <td>1</td>\n",
       "      <td>3.932400</td>\n",
       "      <td>1.180456</td>\n",
       "      <td>0.671053</td>\n",
       "      <td>0.703704</td>\n",
       "    </tr>\n",
       "    <tr>\n",
       "      <td>2</td>\n",
       "      <td>0.763500</td>\n",
       "      <td>0.309167</td>\n",
       "      <td>0.945724</td>\n",
       "      <td>0.907407</td>\n",
       "    </tr>\n",
       "    <tr>\n",
       "      <td>3</td>\n",
       "      <td>0.344100</td>\n",
       "      <td>0.200915</td>\n",
       "      <td>0.975329</td>\n",
       "      <td>0.962963</td>\n",
       "    </tr>\n",
       "    <tr>\n",
       "      <td>4</td>\n",
       "      <td>0.264500</td>\n",
       "      <td>0.147200</td>\n",
       "      <td>0.990132</td>\n",
       "      <td>0.962963</td>\n",
       "    </tr>\n",
       "    <tr>\n",
       "      <td>5</td>\n",
       "      <td>0.196400</td>\n",
       "      <td>0.153938</td>\n",
       "      <td>0.991776</td>\n",
       "      <td>0.962963</td>\n",
       "    </tr>\n",
       "    <tr>\n",
       "      <td>6</td>\n",
       "      <td>0.183200</td>\n",
       "      <td>0.158023</td>\n",
       "      <td>0.991776</td>\n",
       "      <td>0.962963</td>\n",
       "    </tr>\n",
       "    <tr>\n",
       "      <td>7</td>\n",
       "      <td>0.200500</td>\n",
       "      <td>0.157066</td>\n",
       "      <td>0.991776</td>\n",
       "      <td>0.962963</td>\n",
       "    </tr>\n",
       "    <tr>\n",
       "      <td>8</td>\n",
       "      <td>0.162200</td>\n",
       "      <td>0.144563</td>\n",
       "      <td>0.991776</td>\n",
       "      <td>0.962963</td>\n",
       "    </tr>\n",
       "    <tr>\n",
       "      <td>9</td>\n",
       "      <td>0.151500</td>\n",
       "      <td>0.150830</td>\n",
       "      <td>0.991776</td>\n",
       "      <td>0.962963</td>\n",
       "    </tr>\n",
       "    <tr>\n",
       "      <td>10</td>\n",
       "      <td>0.146400</td>\n",
       "      <td>0.152817</td>\n",
       "      <td>0.991776</td>\n",
       "      <td>0.962963</td>\n",
       "    </tr>\n",
       "  </tbody>\n",
       "</table><p>"
      ],
      "text/plain": [
       "<IPython.core.display.HTML object>"
      ]
     },
     "metadata": {},
     "output_type": "display_data"
    },
    {
     "data": {
      "text/html": [],
      "text/plain": [
       "<IPython.core.display.HTML object>"
      ]
     },
     "metadata": {},
     "output_type": "display_data"
    },
    {
     "name": "stdout",
     "output_type": "stream",
     "text": [
      "{'roc_auc': np.float64(0.9736842105263158), 'accuracy': 0.9444444444444444}\n"
     ]
    }
   ],
   "source": [
    "from peft import AdaptionPromptConfig, TaskType\n",
    "from scripts import train_peft\n",
    "\n",
    "peft_config = AdaptionPromptConfig(\n",
    "    task_type=TaskType.SEQ_CLS,\n",
    "    adapter_layers=8,       # アダプタのレイヤー数\n",
    "    adapter_len=10,\n",
    ")\n",
    "train_peft(peft_config)"
   ]
  },
  {
   "cell_type": "code",
   "execution_count": null,
   "id": "8ca00c56-927a-44a5-8c26-7792602b902c",
   "metadata": {},
   "outputs": [],
   "source": []
  }
 ],
 "metadata": {
  "kernelspec": {
   "display_name": "Python 3 (ipykernel)",
   "language": "python",
   "name": "python3"
  },
  "language_info": {
   "codemirror_mode": {
    "name": "ipython",
    "version": 3
   },
   "file_extension": ".py",
   "mimetype": "text/x-python",
   "name": "python",
   "nbconvert_exporter": "python",
   "pygments_lexer": "ipython3",
   "version": "3.11.10"
  }
 },
 "nbformat": 4,
 "nbformat_minor": 5
}
