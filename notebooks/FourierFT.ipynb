{
 "cells": [
  {
   "cell_type": "markdown",
   "id": "1ae0af03-35c5-4591-a209-4a74b9aac3b0",
   "metadata": {},
   "source": [
    "## FourierFT\n",
    "- https://linnk.ai/insight/software-development/%E3%83%91%E3%83%A9%E3%83%A1%E3%83%BC%E3%82%BF%E5%8A%B9%E7%8E%87%E3%81%AE%E9%AB%98%E3%81%84%E9%9B%A2%E6%95%A3%E3%83%95%E3%83%BC%E3%83%AA%E3%82%A8%E5%A4%89%E6%8F%9B%E3%82%92%E7%94%A8%E3%81%84%E3%81%9F%E3%83%95%E3%82%A1%E3%82%A4%E3%83%B3%E3%83%81%E3%83%A5%E3%83%BC%E3%83%8B%E3%83%B3%E3%82%B0-UAiU1Rn3/"
   ]
  },
  {
   "cell_type": "code",
   "execution_count": 1,
   "id": "6efaf2cc-6089-42af-97de-6364c65cc7b9",
   "metadata": {},
   "outputs": [
    {
     "name": "stderr",
     "output_type": "stream",
     "text": [
      "Some weights of LlamaForSequenceClassification were not initialized from the model checkpoint at llm-jp/llm-jp-3-1.8b and are newly initialized: ['score.weight']\n",
      "You should probably TRAIN this model on a down-stream task to be able to use it for predictions and inference.\n"
     ]
    },
    {
     "name": "stdout",
     "output_type": "stream",
     "text": [
      "trainable params: 52,096 || all params: 1,663,722,368 || trainable%: 0.0031\n",
      "base_model.model.model.layers.0.self_attn.q_proj.fourierft_spectrum.default 1000\n",
      "base_model.model.model.layers.0.self_attn.v_proj.fourierft_spectrum.default 1000\n",
      "base_model.model.model.layers.1.self_attn.q_proj.fourierft_spectrum.default 1000\n",
      "base_model.model.model.layers.1.self_attn.v_proj.fourierft_spectrum.default 1000\n",
      "base_model.model.model.layers.2.self_attn.q_proj.fourierft_spectrum.default 1000\n",
      "base_model.model.model.layers.2.self_attn.v_proj.fourierft_spectrum.default 1000\n",
      "base_model.model.model.layers.3.self_attn.q_proj.fourierft_spectrum.default 1000\n",
      "base_model.model.model.layers.3.self_attn.v_proj.fourierft_spectrum.default 1000\n",
      "base_model.model.model.layers.4.self_attn.q_proj.fourierft_spectrum.default 1000\n",
      "base_model.model.model.layers.4.self_attn.v_proj.fourierft_spectrum.default 1000\n",
      "base_model.model.model.layers.5.self_attn.q_proj.fourierft_spectrum.default 1000\n",
      "base_model.model.model.layers.5.self_attn.v_proj.fourierft_spectrum.default 1000\n",
      "base_model.model.model.layers.6.self_attn.q_proj.fourierft_spectrum.default 1000\n",
      "base_model.model.model.layers.6.self_attn.v_proj.fourierft_spectrum.default 1000\n",
      "base_model.model.model.layers.7.self_attn.q_proj.fourierft_spectrum.default 1000\n",
      "base_model.model.model.layers.7.self_attn.v_proj.fourierft_spectrum.default 1000\n",
      "base_model.model.model.layers.8.self_attn.q_proj.fourierft_spectrum.default 1000\n",
      "base_model.model.model.layers.8.self_attn.v_proj.fourierft_spectrum.default 1000\n",
      "base_model.model.model.layers.9.self_attn.q_proj.fourierft_spectrum.default 1000\n",
      "base_model.model.model.layers.9.self_attn.v_proj.fourierft_spectrum.default 1000\n",
      "base_model.model.model.layers.10.self_attn.q_proj.fourierft_spectrum.default 1000\n",
      "base_model.model.model.layers.10.self_attn.v_proj.fourierft_spectrum.default 1000\n",
      "base_model.model.model.layers.11.self_attn.q_proj.fourierft_spectrum.default 1000\n",
      "base_model.model.model.layers.11.self_attn.v_proj.fourierft_spectrum.default 1000\n",
      "base_model.model.model.layers.12.self_attn.q_proj.fourierft_spectrum.default 1000\n",
      "base_model.model.model.layers.12.self_attn.v_proj.fourierft_spectrum.default 1000\n",
      "base_model.model.model.layers.13.self_attn.q_proj.fourierft_spectrum.default 1000\n",
      "base_model.model.model.layers.13.self_attn.v_proj.fourierft_spectrum.default 1000\n",
      "base_model.model.model.layers.14.self_attn.q_proj.fourierft_spectrum.default 1000\n",
      "base_model.model.model.layers.14.self_attn.v_proj.fourierft_spectrum.default 1000\n",
      "base_model.model.model.layers.15.self_attn.q_proj.fourierft_spectrum.default 1000\n",
      "base_model.model.model.layers.15.self_attn.v_proj.fourierft_spectrum.default 1000\n",
      "base_model.model.model.layers.16.self_attn.q_proj.fourierft_spectrum.default 1000\n",
      "base_model.model.model.layers.16.self_attn.v_proj.fourierft_spectrum.default 1000\n",
      "base_model.model.model.layers.17.self_attn.q_proj.fourierft_spectrum.default 1000\n",
      "base_model.model.model.layers.17.self_attn.v_proj.fourierft_spectrum.default 1000\n",
      "base_model.model.model.layers.18.self_attn.q_proj.fourierft_spectrum.default 1000\n",
      "base_model.model.model.layers.18.self_attn.v_proj.fourierft_spectrum.default 1000\n",
      "base_model.model.model.layers.19.self_attn.q_proj.fourierft_spectrum.default 1000\n",
      "base_model.model.model.layers.19.self_attn.v_proj.fourierft_spectrum.default 1000\n",
      "base_model.model.model.layers.20.self_attn.q_proj.fourierft_spectrum.default 1000\n",
      "base_model.model.model.layers.20.self_attn.v_proj.fourierft_spectrum.default 1000\n",
      "base_model.model.model.layers.21.self_attn.q_proj.fourierft_spectrum.default 1000\n",
      "base_model.model.model.layers.21.self_attn.v_proj.fourierft_spectrum.default 1000\n",
      "base_model.model.model.layers.22.self_attn.q_proj.fourierft_spectrum.default 1000\n",
      "base_model.model.model.layers.22.self_attn.v_proj.fourierft_spectrum.default 1000\n",
      "base_model.model.model.layers.23.self_attn.q_proj.fourierft_spectrum.default 1000\n",
      "base_model.model.model.layers.23.self_attn.v_proj.fourierft_spectrum.default 1000\n",
      "base_model.model.score.modules_to_save.default.weight 4096\n"
     ]
    },
    {
     "name": "stderr",
     "output_type": "stream",
     "text": [
      "/opt/conda/lib/python3.11/site-packages/transformers/training_args.py:1568: FutureWarning: `evaluation_strategy` is deprecated and will be removed in version 4.46 of 🤗 Transformers. Use `eval_strategy` instead\n",
      "  warnings.warn(\n",
      "/work/notebooks/scripts.py:79: FutureWarning: `tokenizer` is deprecated and will be removed in version 5.0.0 for `Trainer.__init__`. Use `processing_class` instead.\n",
      "  trainer = Trainer(\n"
     ]
    },
    {
     "data": {
      "text/html": [
       "\n",
       "    <div>\n",
       "      \n",
       "      <progress value='410' max='410' style='width:300px; height:20px; vertical-align: middle;'></progress>\n",
       "      [410/410 10:50, Epoch 10/10]\n",
       "    </div>\n",
       "    <table border=\"1\" class=\"dataframe\">\n",
       "  <thead>\n",
       " <tr style=\"text-align: left;\">\n",
       "      <th>Epoch</th>\n",
       "      <th>Training Loss</th>\n",
       "      <th>Validation Loss</th>\n",
       "      <th>Roc Auc</th>\n",
       "      <th>Accuracy</th>\n",
       "    </tr>\n",
       "  </thead>\n",
       "  <tbody>\n",
       "    <tr>\n",
       "      <td>1</td>\n",
       "      <td>1.089400</td>\n",
       "      <td>0.335796</td>\n",
       "      <td>0.963816</td>\n",
       "      <td>0.925926</td>\n",
       "    </tr>\n",
       "    <tr>\n",
       "      <td>2</td>\n",
       "      <td>0.504500</td>\n",
       "      <td>0.231394</td>\n",
       "      <td>0.983553</td>\n",
       "      <td>0.925926</td>\n",
       "    </tr>\n",
       "    <tr>\n",
       "      <td>3</td>\n",
       "      <td>0.393100</td>\n",
       "      <td>0.266384</td>\n",
       "      <td>0.991776</td>\n",
       "      <td>0.925926</td>\n",
       "    </tr>\n",
       "    <tr>\n",
       "      <td>4</td>\n",
       "      <td>0.340200</td>\n",
       "      <td>0.196480</td>\n",
       "      <td>0.993421</td>\n",
       "      <td>0.944444</td>\n",
       "    </tr>\n",
       "    <tr>\n",
       "      <td>5</td>\n",
       "      <td>0.292000</td>\n",
       "      <td>0.180695</td>\n",
       "      <td>0.993421</td>\n",
       "      <td>0.944444</td>\n",
       "    </tr>\n",
       "    <tr>\n",
       "      <td>6</td>\n",
       "      <td>0.261800</td>\n",
       "      <td>0.211420</td>\n",
       "      <td>0.995066</td>\n",
       "      <td>0.925926</td>\n",
       "    </tr>\n",
       "    <tr>\n",
       "      <td>7</td>\n",
       "      <td>0.259800</td>\n",
       "      <td>0.193604</td>\n",
       "      <td>0.998355</td>\n",
       "      <td>0.944444</td>\n",
       "    </tr>\n",
       "    <tr>\n",
       "      <td>8</td>\n",
       "      <td>0.221100</td>\n",
       "      <td>0.180099</td>\n",
       "      <td>1.000000</td>\n",
       "      <td>0.944444</td>\n",
       "    </tr>\n",
       "    <tr>\n",
       "      <td>9</td>\n",
       "      <td>0.207200</td>\n",
       "      <td>0.175189</td>\n",
       "      <td>1.000000</td>\n",
       "      <td>0.944444</td>\n",
       "    </tr>\n",
       "    <tr>\n",
       "      <td>10</td>\n",
       "      <td>0.197000</td>\n",
       "      <td>0.181611</td>\n",
       "      <td>1.000000</td>\n",
       "      <td>0.925926</td>\n",
       "    </tr>\n",
       "  </tbody>\n",
       "</table><p>"
      ],
      "text/plain": [
       "<IPython.core.display.HTML object>"
      ]
     },
     "metadata": {},
     "output_type": "display_data"
    },
    {
     "data": {
      "text/html": [],
      "text/plain": [
       "<IPython.core.display.HTML object>"
      ]
     },
     "metadata": {},
     "output_type": "display_data"
    },
    {
     "name": "stdout",
     "output_type": "stream",
     "text": [
      "{'roc_auc': np.float64(0.9769736842105263), 'accuracy': 0.9444444444444444}\n"
     ]
    }
   ],
   "source": [
    "from peft import FourierFTConfig, TaskType\n",
    "from scripts import train_peft\n",
    "\n",
    "peft_config = FourierFTConfig(\n",
    "    task_type=TaskType.SEQ_CLS,\n",
    ")\n",
    "train_peft(peft_config)"
   ]
  },
  {
   "cell_type": "code",
   "execution_count": null,
   "id": "c1bf2034-de6b-406f-8a8e-848d31fed66d",
   "metadata": {},
   "outputs": [],
   "source": []
  }
 ],
 "metadata": {
  "kernelspec": {
   "display_name": "Python 3 (ipykernel)",
   "language": "python",
   "name": "python3"
  },
  "language_info": {
   "codemirror_mode": {
    "name": "ipython",
    "version": 3
   },
   "file_extension": ".py",
   "mimetype": "text/x-python",
   "name": "python",
   "nbconvert_exporter": "python",
   "pygments_lexer": "ipython3",
   "version": "3.11.10"
  }
 },
 "nbformat": 4,
 "nbformat_minor": 5
}
