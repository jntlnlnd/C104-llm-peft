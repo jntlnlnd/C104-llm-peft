{
 "cells": [
  {
   "cell_type": "markdown",
   "id": "6ab759c5-915d-4ea7-89cf-ab113316e6e6",
   "metadata": {},
   "source": [
    "## LayerNormTuning"
   ]
  },
  {
   "cell_type": "code",
   "execution_count": 2,
   "id": "cfd25738-487e-470b-973d-98318d721bf7",
   "metadata": {},
   "outputs": [
    {
     "name": "stderr",
     "output_type": "stream",
     "text": [
      "Some weights of LlamaForSequenceClassification were not initialized from the model checkpoint at llm-jp/llm-jp-3-1.8b and are newly initialized: ['score.weight']\n",
      "You should probably TRAIN this model on a down-stream task to be able to use it for predictions and inference.\n"
     ]
    },
    {
     "name": "stdout",
     "output_type": "stream",
     "text": [
      "trainable params: 104,448 || all params: 1,663,774,720 || trainable%: 0.0063\n",
      "base_model.model.model.layers.0.input_layernorm.ln_tuning_layers.default.weight 2048\n",
      "base_model.model.model.layers.0.post_attention_layernorm.ln_tuning_layers.default.weight 2048\n",
      "base_model.model.model.layers.1.input_layernorm.ln_tuning_layers.default.weight 2048\n",
      "base_model.model.model.layers.1.post_attention_layernorm.ln_tuning_layers.default.weight 2048\n",
      "base_model.model.model.layers.2.input_layernorm.ln_tuning_layers.default.weight 2048\n",
      "base_model.model.model.layers.2.post_attention_layernorm.ln_tuning_layers.default.weight 2048\n",
      "base_model.model.model.layers.3.input_layernorm.ln_tuning_layers.default.weight 2048\n",
      "base_model.model.model.layers.3.post_attention_layernorm.ln_tuning_layers.default.weight 2048\n",
      "base_model.model.model.layers.4.input_layernorm.ln_tuning_layers.default.weight 2048\n",
      "base_model.model.model.layers.4.post_attention_layernorm.ln_tuning_layers.default.weight 2048\n",
      "base_model.model.model.layers.5.input_layernorm.ln_tuning_layers.default.weight 2048\n",
      "base_model.model.model.layers.5.post_attention_layernorm.ln_tuning_layers.default.weight 2048\n",
      "base_model.model.model.layers.6.input_layernorm.ln_tuning_layers.default.weight 2048\n",
      "base_model.model.model.layers.6.post_attention_layernorm.ln_tuning_layers.default.weight 2048\n",
      "base_model.model.model.layers.7.input_layernorm.ln_tuning_layers.default.weight 2048\n",
      "base_model.model.model.layers.7.post_attention_layernorm.ln_tuning_layers.default.weight 2048\n",
      "base_model.model.model.layers.8.input_layernorm.ln_tuning_layers.default.weight 2048\n",
      "base_model.model.model.layers.8.post_attention_layernorm.ln_tuning_layers.default.weight 2048\n",
      "base_model.model.model.layers.9.input_layernorm.ln_tuning_layers.default.weight 2048\n",
      "base_model.model.model.layers.9.post_attention_layernorm.ln_tuning_layers.default.weight 2048\n",
      "base_model.model.model.layers.10.input_layernorm.ln_tuning_layers.default.weight 2048\n",
      "base_model.model.model.layers.10.post_attention_layernorm.ln_tuning_layers.default.weight 2048\n",
      "base_model.model.model.layers.11.input_layernorm.ln_tuning_layers.default.weight 2048\n",
      "base_model.model.model.layers.11.post_attention_layernorm.ln_tuning_layers.default.weight 2048\n",
      "base_model.model.model.layers.12.input_layernorm.ln_tuning_layers.default.weight 2048\n",
      "base_model.model.model.layers.12.post_attention_layernorm.ln_tuning_layers.default.weight 2048\n",
      "base_model.model.model.layers.13.input_layernorm.ln_tuning_layers.default.weight 2048\n",
      "base_model.model.model.layers.13.post_attention_layernorm.ln_tuning_layers.default.weight 2048\n",
      "base_model.model.model.layers.14.input_layernorm.ln_tuning_layers.default.weight 2048\n",
      "base_model.model.model.layers.14.post_attention_layernorm.ln_tuning_layers.default.weight 2048\n",
      "base_model.model.model.layers.15.input_layernorm.ln_tuning_layers.default.weight 2048\n",
      "base_model.model.model.layers.15.post_attention_layernorm.ln_tuning_layers.default.weight 2048\n",
      "base_model.model.model.layers.16.input_layernorm.ln_tuning_layers.default.weight 2048\n",
      "base_model.model.model.layers.16.post_attention_layernorm.ln_tuning_layers.default.weight 2048\n",
      "base_model.model.model.layers.17.input_layernorm.ln_tuning_layers.default.weight 2048\n",
      "base_model.model.model.layers.17.post_attention_layernorm.ln_tuning_layers.default.weight 2048\n",
      "base_model.model.model.layers.18.input_layernorm.ln_tuning_layers.default.weight 2048\n",
      "base_model.model.model.layers.18.post_attention_layernorm.ln_tuning_layers.default.weight 2048\n",
      "base_model.model.model.layers.19.input_layernorm.ln_tuning_layers.default.weight 2048\n",
      "base_model.model.model.layers.19.post_attention_layernorm.ln_tuning_layers.default.weight 2048\n",
      "base_model.model.model.layers.20.input_layernorm.ln_tuning_layers.default.weight 2048\n",
      "base_model.model.model.layers.20.post_attention_layernorm.ln_tuning_layers.default.weight 2048\n",
      "base_model.model.model.layers.21.input_layernorm.ln_tuning_layers.default.weight 2048\n",
      "base_model.model.model.layers.21.post_attention_layernorm.ln_tuning_layers.default.weight 2048\n",
      "base_model.model.model.layers.22.input_layernorm.ln_tuning_layers.default.weight 2048\n",
      "base_model.model.model.layers.22.post_attention_layernorm.ln_tuning_layers.default.weight 2048\n",
      "base_model.model.model.layers.23.input_layernorm.ln_tuning_layers.default.weight 2048\n",
      "base_model.model.model.layers.23.post_attention_layernorm.ln_tuning_layers.default.weight 2048\n",
      "base_model.model.model.norm.ln_tuning_layers.default.weight 2048\n",
      "base_model.model.score.modules_to_save.default.weight 4096\n"
     ]
    },
    {
     "name": "stderr",
     "output_type": "stream",
     "text": [
      "/opt/conda/lib/python3.11/site-packages/transformers/training_args.py:1568: FutureWarning: `evaluation_strategy` is deprecated and will be removed in version 4.46 of 🤗 Transformers. Use `eval_strategy` instead\n",
      "  warnings.warn(\n",
      "/work/notebooks/scripts.py:79: FutureWarning: `tokenizer` is deprecated and will be removed in version 5.0.0 for `Trainer.__init__`. Use `processing_class` instead.\n",
      "  trainer = Trainer(\n"
     ]
    },
    {
     "data": {
      "text/html": [
       "\n",
       "    <div>\n",
       "      \n",
       "      <progress value='410' max='410' style='width:300px; height:20px; vertical-align: middle;'></progress>\n",
       "      [410/410 01:30, Epoch 10/10]\n",
       "    </div>\n",
       "    <table border=\"1\" class=\"dataframe\">\n",
       "  <thead>\n",
       " <tr style=\"text-align: left;\">\n",
       "      <th>Epoch</th>\n",
       "      <th>Training Loss</th>\n",
       "      <th>Validation Loss</th>\n",
       "      <th>Roc Auc</th>\n",
       "      <th>Accuracy</th>\n",
       "    </tr>\n",
       "  </thead>\n",
       "  <tbody>\n",
       "    <tr>\n",
       "      <td>1</td>\n",
       "      <td>0.595800</td>\n",
       "      <td>0.778637</td>\n",
       "      <td>0.875000</td>\n",
       "      <td>0.814815</td>\n",
       "    </tr>\n",
       "    <tr>\n",
       "      <td>2</td>\n",
       "      <td>0.305000</td>\n",
       "      <td>0.637444</td>\n",
       "      <td>0.909539</td>\n",
       "      <td>0.851852</td>\n",
       "    </tr>\n",
       "    <tr>\n",
       "      <td>3</td>\n",
       "      <td>0.214900</td>\n",
       "      <td>0.573885</td>\n",
       "      <td>0.925987</td>\n",
       "      <td>0.870370</td>\n",
       "    </tr>\n",
       "    <tr>\n",
       "      <td>4</td>\n",
       "      <td>0.158300</td>\n",
       "      <td>0.549422</td>\n",
       "      <td>0.932566</td>\n",
       "      <td>0.870370</td>\n",
       "    </tr>\n",
       "    <tr>\n",
       "      <td>5</td>\n",
       "      <td>0.116200</td>\n",
       "      <td>0.550433</td>\n",
       "      <td>0.932566</td>\n",
       "      <td>0.870370</td>\n",
       "    </tr>\n",
       "    <tr>\n",
       "      <td>6</td>\n",
       "      <td>0.105100</td>\n",
       "      <td>0.520272</td>\n",
       "      <td>0.942434</td>\n",
       "      <td>0.888889</td>\n",
       "    </tr>\n",
       "    <tr>\n",
       "      <td>7</td>\n",
       "      <td>0.090400</td>\n",
       "      <td>0.507674</td>\n",
       "      <td>0.942434</td>\n",
       "      <td>0.888889</td>\n",
       "    </tr>\n",
       "    <tr>\n",
       "      <td>8</td>\n",
       "      <td>0.082800</td>\n",
       "      <td>0.496947</td>\n",
       "      <td>0.947368</td>\n",
       "      <td>0.888889</td>\n",
       "    </tr>\n",
       "    <tr>\n",
       "      <td>9</td>\n",
       "      <td>0.074500</td>\n",
       "      <td>0.495731</td>\n",
       "      <td>0.947368</td>\n",
       "      <td>0.888889</td>\n",
       "    </tr>\n",
       "    <tr>\n",
       "      <td>10</td>\n",
       "      <td>0.070700</td>\n",
       "      <td>0.493191</td>\n",
       "      <td>0.947368</td>\n",
       "      <td>0.888889</td>\n",
       "    </tr>\n",
       "  </tbody>\n",
       "</table><p>"
      ],
      "text/plain": [
       "<IPython.core.display.HTML object>"
      ]
     },
     "metadata": {},
     "output_type": "display_data"
    },
    {
     "data": {
      "text/html": [],
      "text/plain": [
       "<IPython.core.display.HTML object>"
      ]
     },
     "metadata": {},
     "output_type": "display_data"
    },
    {
     "name": "stdout",
     "output_type": "stream",
     "text": [
      "{'roc_auc': np.float64(0.9769736842105263), 'accuracy': 0.9074074074074074}\n"
     ]
    }
   ],
   "source": [
    "from peft import LNTuningConfig, TaskType\n",
    "from scripts import train_peft\n",
    "\n",
    "peft_config = LNTuningConfig(\n",
    "    task_type=TaskType.SEQ_CLS,\n",
    ")\n",
    "train_peft(peft_config)"
   ]
  },
  {
   "cell_type": "code",
   "execution_count": null,
   "id": "c3b0f9bb-0ba0-4bf3-86ed-0b11488b5023",
   "metadata": {},
   "outputs": [],
   "source": []
  }
 ],
 "metadata": {
  "kernelspec": {
   "display_name": "Python 3 (ipykernel)",
   "language": "python",
   "name": "python3"
  },
  "language_info": {
   "codemirror_mode": {
    "name": "ipython",
    "version": 3
   },
   "file_extension": ".py",
   "mimetype": "text/x-python",
   "name": "python",
   "nbconvert_exporter": "python",
   "pygments_lexer": "ipython3",
   "version": "3.11.10"
  }
 },
 "nbformat": 4,
 "nbformat_minor": 5
}
